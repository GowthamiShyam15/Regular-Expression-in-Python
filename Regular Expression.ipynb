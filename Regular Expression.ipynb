{
 "cells": [
  {
   "cell_type": "markdown",
   "id": "c3b325eb",
   "metadata": {},
   "source": [
    "# Regular Expression"
   ]
  },
  {
   "cell_type": "markdown",
   "id": "3ada2f35",
   "metadata": {},
   "source": [
    "- findall()\n",
    "- search()\n",
    "- split()\n",
    "- sub()"
   ]
  },
  {
   "cell_type": "code",
   "execution_count": 1,
   "id": "2b23fe6a",
   "metadata": {},
   "outputs": [],
   "source": [
    "import re"
   ]
  },
  {
   "cell_type": "code",
   "execution_count": 10,
   "id": "48358b9e",
   "metadata": {},
   "outputs": [
    {
     "name": "stdout",
     "output_type": "stream",
     "text": [
      "exists\n",
      "Count of pattern: 7\n"
     ]
    }
   ],
   "source": [
    "#findall()\n",
    "s = \"welcome to python course for easy programming lets learn python\"\n",
    "res = re.findall(\"o\",s) #[\"o\",\"o\",\"o\",\"o\",\"o\",\"o\",\"o\"]\n",
    "if res:\n",
    "    print(\"exists\")\n",
    "    c = 0\n",
    "    for i in res:\n",
    "        c = c+1\n",
    "    print(\"Count of pattern:\",c)\n",
    "    \n",
    "else:\n",
    "    print(\"Not exists\")\n",
    "    "
   ]
  },
  {
   "cell_type": "code",
   "execution_count": 16,
   "id": "2cdae0a8",
   "metadata": {},
   "outputs": [
    {
     "name": "stdout",
     "output_type": "stream",
     "text": [
      "welcooome to python course\n"
     ]
    }
   ],
   "source": [
    "#search()\n",
    "s = \"welcooome to python course\"\n",
    "res = re.search(\"o\",s)\n",
    "print(res.string)"
   ]
  },
  {
   "cell_type": "code",
   "execution_count": 19,
   "id": "8734344a",
   "metadata": {},
   "outputs": [
    {
     "name": "stdout",
     "output_type": "stream",
     "text": [
      "['welc', 'me t', ' pyth', 'n c', 'urse for easy programming lets learn python']\n"
     ]
    }
   ],
   "source": [
    "#split()\n",
    "s = \"welcome to python course for easy programming lets learn python\"\n",
    "res = re.split(\"o\",s,4)\n",
    "print(res)"
   ]
  },
  {
   "cell_type": "code",
   "execution_count": 22,
   "id": "a9b4affe",
   "metadata": {},
   "outputs": [
    {
     "name": "stdout",
     "output_type": "stream",
     "text": [
      "welcOme tO python course for easy programming lets learn python\n",
      "welcome to python course for easy programming lets learn python\n"
     ]
    }
   ],
   "source": [
    "#sub()\n",
    "\n",
    "s = \"welcome to python course for easy programming lets learn python\"\n",
    "res = re.sub(\"o\",\"O\",s,2)\n",
    "print(res)\n",
    "print(s)"
   ]
  },
  {
   "cell_type": "markdown",
   "id": "a39381ab",
   "metadata": {},
   "source": [
    "# MetaCharacters"
   ]
  },
  {
   "cell_type": "code",
   "execution_count": 1,
   "id": "e805bb2a",
   "metadata": {},
   "outputs": [],
   "source": [
    "import re"
   ]
  },
  {
   "cell_type": "code",
   "execution_count": 2,
   "id": "41747adf",
   "metadata": {},
   "outputs": [
    {
     "name": "stdout",
     "output_type": "stream",
     "text": [
      "['h', 'e', 'a', 'i', 'i', 'a', 'i']\n"
     ]
    }
   ],
   "source": [
    "#[] -> set of characters\n",
    "\n",
    "txt = \"The rain in spain\"\n",
    "#find a-m\n",
    "res = re.findall(\"[a-m]\",txt)\n",
    "print(res)  #['h','e','a','i','i','a','i']"
   ]
  },
  {
   "cell_type": "code",
   "execution_count": 3,
   "id": "69e3c2f6",
   "metadata": {},
   "outputs": [
    {
     "name": "stdout",
     "output_type": "stream",
     "text": [
      "['hello']\n"
     ]
    }
   ],
   "source": [
    "# .\n",
    "\n",
    "txt = \"hello planet helo\"\n",
    "res = re.findall(\"h...o\",txt)\n",
    "print(res)"
   ]
  },
  {
   "cell_type": "code",
   "execution_count": 13,
   "id": "a9841f92",
   "metadata": {},
   "outputs": [
    {
     "name": "stdout",
     "output_type": "stream",
     "text": [
      "['ho']\n"
     ]
    }
   ],
   "source": [
    "# * - zero or more occurences\n",
    "txt = \"ho planet\"\n",
    "res = re.findall(\"h.*o\",txt)\n",
    "print(res)"
   ]
  },
  {
   "cell_type": "code",
   "execution_count": 17,
   "id": "00769312",
   "metadata": {},
   "outputs": [
    {
     "name": "stdout",
     "output_type": "stream",
     "text": [
      "['h o']\n"
     ]
    }
   ],
   "source": [
    "# + - one or more occurences\n",
    "txt = \"h o planet\"\n",
    "res = re.findall(\"h.+o\",txt)\n",
    "print(res)"
   ]
  },
  {
   "cell_type": "code",
   "execution_count": 7,
   "id": "7d10887a",
   "metadata": {},
   "outputs": [
    {
     "name": "stdout",
     "output_type": "stream",
     "text": [
      "[]\n"
     ]
    }
   ],
   "source": [
    "# ? - zero or one occurence\n",
    "txt = \"h   o planet\"\n",
    "res = re.findall(\"h.?o\",txt)\n",
    "print(res)"
   ]
  },
  {
   "cell_type": "code",
   "execution_count": 14,
   "id": "fd724c7c",
   "metadata": {},
   "outputs": [
    {
     "name": "stdout",
     "output_type": "stream",
     "text": [
      "['hello p', 'hello p']\n"
     ]
    }
   ],
   "source": [
    "#{}\n",
    "\n",
    "txt = \"hello planet hello planet\"\n",
    "res = re.findall(\"h.{5}p\",txt)\n",
    "print(res)"
   ]
  },
  {
   "cell_type": "code",
   "execution_count": 8,
   "id": "3a0b2e17",
   "metadata": {},
   "outputs": [
    {
     "name": "stdout",
     "output_type": "stream",
     "text": [
      "Yes, it starts with given pattern\n"
     ]
    }
   ],
   "source": [
    "# ^ - start with\n",
    "\n",
    "txt = \"hello planet helo\"\n",
    "res = re.findall(\"^hello\",txt)\n",
    "if res:\n",
    "    print(\"Yes, it starts with given pattern\")\n",
    "else:\n",
    "    print(\"No Match\")"
   ]
  },
  {
   "cell_type": "code",
   "execution_count": 10,
   "id": "60c3a596",
   "metadata": {},
   "outputs": [
    {
     "name": "stdout",
     "output_type": "stream",
     "text": [
      "No Match\n"
     ]
    }
   ],
   "source": [
    "# $ - end with\n",
    "\n",
    "txt = \"hello planet helo\"\n",
    "res = re.findall(\"l$\",txt)\n",
    "if res:\n",
    "    print(\"Yes, it ends with given pattern\")\n",
    "else:\n",
    "    print(\"No Match\")"
   ]
  },
  {
   "cell_type": "markdown",
   "id": "2faae733",
   "metadata": {},
   "source": [
    "# Special Sequences"
   ]
  },
  {
   "cell_type": "code",
   "execution_count": 19,
   "id": "4aebec6f",
   "metadata": {},
   "outputs": [
    {
     "name": "stdout",
     "output_type": "stream",
     "text": [
      "['The']\n"
     ]
    }
   ],
   "source": [
    "#\\A -starts with\n",
    "\n",
    "txt = \"The rain in spain\"\n",
    "print(re.findall(\"\\AThe\",txt))"
   ]
  },
  {
   "cell_type": "code",
   "execution_count": 20,
   "id": "5ff9f8e3",
   "metadata": {},
   "outputs": [
    {
     "name": "stdout",
     "output_type": "stream",
     "text": [
      "['spain']\n"
     ]
    }
   ],
   "source": [
    "#\\Z -ends with\n",
    "\n",
    "txt = \"The rain in spain\"\n",
    "print(re.findall(\"spain\\Z\",txt))"
   ]
  },
  {
   "cell_type": "code",
   "execution_count": 28,
   "id": "ab4061c9",
   "metadata": {},
   "outputs": [
    {
     "name": "stdout",
     "output_type": "stream",
     "text": [
      "['in', 'in', 'in']\n"
     ]
    }
   ],
   "source": [
    "#\\b\n",
    "\n",
    "txt = \"The rain in spain\"\n",
    "print(re.findall(r\"in\\b\",txt))"
   ]
  },
  {
   "cell_type": "code",
   "execution_count": 38,
   "id": "04c32d4d",
   "metadata": {},
   "outputs": [
    {
     "name": "stdout",
     "output_type": "stream",
     "text": [
      "5\n",
      "2\n"
     ]
    }
   ],
   "source": [
    "#\\B\n",
    "\n",
    "txt = \"welcome to python course for easy programme\"\n",
    "print(txt.count(\"e\"))  #4\n",
    "res = re.findall(r\"e\\B\",txt)\n",
    "if res:  #['o', 'o', 'o', 'o', 'o', 'o']\n",
    "    c = 0\n",
    "    for i in res:\n",
    "        c = c+1\n",
    "print(c)"
   ]
  },
  {
   "cell_type": "code",
   "execution_count": 39,
   "id": "404b09ce",
   "metadata": {},
   "outputs": [
    {
     "name": "stdout",
     "output_type": "stream",
     "text": [
      "['1', '2', '0', '0', '2', '0', '0']\n"
     ]
    }
   ],
   "source": [
    "#\\d -only digits\n",
    "\n",
    "txt = \"python course at 12:00pm-2:00pm\"\n",
    "print(re.findall(\"\\d\",txt))"
   ]
  },
  {
   "cell_type": "code",
   "execution_count": 40,
   "id": "5d78f672",
   "metadata": {},
   "outputs": [
    {
     "name": "stdout",
     "output_type": "stream",
     "text": [
      "['p', 'y', 't', 'h', 'o', 'n', ' ', 'c', 'o', 'u', 'r', 's', 'e', ' ', 'a', 't', ' ', ':', 'p', 'm', '-', ':', 'p', 'm']\n"
     ]
    }
   ],
   "source": [
    "#\\D -except digits\n",
    "\n",
    "txt = \"python course at 12:00pm-2:00pm\"\n",
    "print(re.findall(\"\\D\",txt))"
   ]
  },
  {
   "cell_type": "code",
   "execution_count": 41,
   "id": "0dd8219e",
   "metadata": {},
   "outputs": [
    {
     "name": "stdout",
     "output_type": "stream",
     "text": [
      "[' ', ' ', ' ']\n"
     ]
    }
   ],
   "source": [
    "#\\s - only spaces\n",
    "\n",
    "txt = \"python course at 12:00pm-2:00pm\"\n",
    "print(re.findall(\"\\s\",txt))"
   ]
  },
  {
   "cell_type": "code",
   "execution_count": 42,
   "id": "67d40e2a",
   "metadata": {},
   "outputs": [
    {
     "name": "stdout",
     "output_type": "stream",
     "text": [
      "['p', 'y', 't', 'h', 'o', 'n', 'c', 'o', 'u', 'r', 's', 'e', 'a', 't', '1', '2', ':', '0', '0', 'p', 'm', '-', '2', ':', '0', '0', 'p', 'm']\n"
     ]
    }
   ],
   "source": [
    "#\\S - except spaces\n",
    "\n",
    "txt = \"python course at 12:00pm-2:00pm\"\n",
    "print(re.findall(\"\\S\",txt))"
   ]
  },
  {
   "cell_type": "code",
   "execution_count": 44,
   "id": "104b7010",
   "metadata": {},
   "outputs": [
    {
     "name": "stdout",
     "output_type": "stream",
     "text": [
      "['p', 'y', 't', 'h', 'o', 'n', '_', 'c', 'o', 'u', 'r', 's', 'e', 'a', 't', '1', '2', '0', '0', 'p', 'm', '2', '0', '0', 'p', 'm']\n"
     ]
    }
   ],
   "source": [
    "#\\w - only charcters(letters,digits,_)\n",
    "\n",
    "txt = \"python_course at 12:00pm-2:00pm\"\n",
    "print(re.findall(\"\\w\",txt))"
   ]
  },
  {
   "cell_type": "code",
   "execution_count": 45,
   "id": "50c2db47",
   "metadata": {},
   "outputs": [
    {
     "name": "stdout",
     "output_type": "stream",
     "text": [
      "[' ', ' ', ':', '-', ':']\n"
     ]
    }
   ],
   "source": [
    "#\\W -except charcters remaing (special symbols)\n",
    "\n",
    "txt = \"python_course at 12:00pm-2:00pm\"\n",
    "print(re.findall(\"\\W\",txt))"
   ]
  },
  {
   "cell_type": "markdown",
   "id": "cd7789ae",
   "metadata": {},
   "source": [
    "# Sets"
   ]
  },
  {
   "cell_type": "code",
   "execution_count": 49,
   "id": "66263067",
   "metadata": {},
   "outputs": [
    {
     "name": "stdout",
     "output_type": "stream",
     "text": [
      "['1', '2', '0', '0', '0', '0']\n"
     ]
    }
   ],
   "source": [
    "txt = \"python_course at 12:00pm-07:50pm\"\n",
    "print(re.findall(\"[01234]\",txt))"
   ]
  },
  {
   "cell_type": "code",
   "execution_count": 51,
   "id": "a1803fd4",
   "metadata": {},
   "outputs": [
    {
     "name": "stdout",
     "output_type": "stream",
     "text": [
      "['n', 'r', 'a']\n"
     ]
    }
   ],
   "source": [
    "txt = \"python_course at 12:00pm-07:50pm\"\n",
    "print(re.findall(\"[arn]\",txt))"
   ]
  },
  {
   "cell_type": "code",
   "execution_count": null,
   "id": "fbdca4a7",
   "metadata": {},
   "outputs": [],
   "source": []
  }
 ],
 "metadata": {
  "kernelspec": {
   "display_name": "Python 3 (ipykernel)",
   "language": "python",
   "name": "python3"
  },
  "language_info": {
   "codemirror_mode": {
    "name": "ipython",
    "version": 3
   },
   "file_extension": ".py",
   "mimetype": "text/x-python",
   "name": "python",
   "nbconvert_exporter": "python",
   "pygments_lexer": "ipython3",
   "version": "3.10.4"
  }
 },
 "nbformat": 4,
 "nbformat_minor": 5
}
